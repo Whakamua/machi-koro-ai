{
 "cells": [
  {
   "cell_type": "code",
   "execution_count": 1,
   "metadata": {},
   "outputs": [],
   "source": [
    "import sys\n",
    "cwd = \"/Users/jordydikkers/personal/projects/machi-koro-ai\"\n",
    "sys.path.append(cwd)\n",
    "import os\n",
    "os.chdir(cwd)"
   ]
  },
  {
   "cell_type": "code",
   "execution_count": 2,
   "metadata": {},
   "outputs": [],
   "source": [
    "import pickle\n",
    "import torch\n",
    "from buffer import Buffer, BigBuffer\n",
    "import matplotlib.pyplot as plt\n",
    "from env import GymMachiKoro, MachiKoro\n",
    "from mcts_agent import MCTSAgent\n",
    "import torch.nn as nn\n",
    "import gym\n",
    "import numpy as np\n"
   ]
  },
  {
   "cell_type": "code",
   "execution_count": 16,
   "metadata": {},
   "outputs": [],
   "source": [
    "# for i in range(10):\n",
    "#     with open(f\"checkpoints/{i}.pkl\", \"rb\") as file:\n",
    "#         buffer = pickle.load(file)\n",
    "\n",
    "#     buffer2 = BigBuffer(1, observation_space=buffer._observation_space, action_space=buffer._action_space)\n",
    "\n",
    "#     buffer2.combine_buffers([buffer])\n",
    "#     if buffer2._size != len(buffer2.obss):\n",
    "#         a=1\n",
    "#     with open(f\"checkpoints2/{i}.pkl\",\"wb\") as file:\n",
    "#         pickle.dump(buffer2, file)\n",
    "    "
   ]
  },
  {
   "cell_type": "code",
   "execution_count": 3,
   "metadata": {},
   "outputs": [],
   "source": [
    "buffers = []\n",
    "for i in range(10):\n",
    "    with open(f\"checkpoints2/{i}.pkl\", \"rb\") as file:\n",
    "        buffers.append(pickle.load(file))\n",
    "\n",
    "buffer = buffers[0].get_big_buffer()\n",
    "buffer.combine_buffers(buffers)\n",
    "\n",
    "buffer.post_process()"
   ]
  },
  {
   "cell_type": "code",
   "execution_count": 5,
   "metadata": {},
   "outputs": [],
   "source": [
    "class PVNet(nn.Module):\n",
    "    def __init__(\n",
    "            self,\n",
    "            observation_space: gym.Space,\n",
    "            action_space: gym.Space,\n",
    "    ):\n",
    "        super().__init__()\n",
    "        self.observation_space = observation_space\n",
    "        self.action_space = action_space\n",
    "        num_inputs = gym.spaces.flatten_space(observation_space).shape[0]\n",
    "        num_outputs = action_space.n\n",
    "        \n",
    "        self.fc1 = nn.Linear(num_inputs, 128)\n",
    "        self.fc2 = nn.Linear(128, 128)\n",
    "        self.fc3 = nn.Linear(128, num_outputs)\n",
    "\n",
    "        self.fc4 = nn.Linear(128, 64)\n",
    "        self.fc5 = nn.Linear(64, 1)\n",
    "\n",
    "    def forward(self, x):\n",
    "        x = torch.relu(self.fc1(x))\n",
    "        \n",
    "        x = torch.relu(self.fc2(x))\n",
    "        # policy = self.fc3(x)\n",
    "        x = torch.relu(self.fc4(x))\n",
    "        value = torch.tanh(self.fc5(x))\n",
    "        # return policy, value\n",
    "        return value\n",
    "\n",
    "    def predict(self, observation):\n",
    "        input = torch.tensor(gym.spaces.flatten(self.observation_space, observation)).unsqueeze(0).to(torch.float32)\n",
    "        # policy_pred, value_pred = self.forward(input)\n",
    "        value_pred = self.forward(input)\n",
    "\n",
    "        # policy_pred = torch.nn.functional.softmax(policy_pred, 1)\n",
    "\n",
    "        # return policy_pred.squeeze().detach().numpy(), value_pred.detach().numpy().item()\n",
    "        return value_pred.detach().numpy().item()\n",
    "\n",
    "def loss_fn(policy_preds, value_preds, policy_targets, value_targets):\n",
    "        # policy_loss = self.KLDiv(torch.nn.functional.log_softmax(policy_preds), torch.tensor(policy_targets).to(torch.float32))\n",
    "        value_loss = torch.nn.functional.mse_loss(value_preds, torch.tensor(value_targets).to(torch.float32))\n",
    "        return value_loss # + policy_loss\n",
    "\n",
    "def train(train_buffer, val_buffer, pvnet, batch_size, epochs):\n",
    "    \n",
    "    optimizer = torch.optim.Adam(pvnet.parameters(), lr=0.001, weight_decay=1e-5)\n",
    "    \n",
    "\n",
    "    for epoch in range(epochs):\n",
    "        train_batches = train_buffer.get_random_batches(batch_size = batch_size)\n",
    "\n",
    "        tot_train_loss = 0\n",
    "        train_steps_since_last_val_step = 0\n",
    "        for i, batch in enumerate(train_batches):\n",
    "            train_steps_since_last_val_step += 1\n",
    "            obss, actions, rewards, next_obss, dones, player_ids, action_masks, values, probs = batch\n",
    "            \n",
    "            # policy_preds, value_preds = pvnet.forward(torch.tensor(obss).to(torch.float32))\n",
    "            value_preds = pvnet.forward(torch.tensor(obss).to(torch.float32))\n",
    "            loss = loss_fn(\n",
    "                # policy_preds=policy_preds,\n",
    "                policy_preds=0,\n",
    "                value_preds=value_preds,\n",
    "                # policy_targets=probs,\n",
    "                policy_targets=0,\n",
    "                value_targets=values\n",
    "            )\n",
    "            tot_train_loss += loss\n",
    "            if i % 100 == 0:\n",
    "                obss, actions, rewards, next_obss, dones, player_ids, action_masks, values, probs = val_buffer[:]\n",
    "                # policy_preds, value_preds = pvnet.forward(torch.tensor(obss).to(torch.float32))\n",
    "                value_preds = pvnet.forward(torch.tensor(obss).to(torch.float32))\n",
    "                avg_val_loss = loss_fn(\n",
    "                    # policy_preds=policy_preds,\n",
    "                    policy_preds=0,\n",
    "                    value_preds=value_preds,\n",
    "                    # policy_targets=probs,\n",
    "                    policy_targets=0,\n",
    "                    value_targets=values\n",
    "                )\n",
    "                avg_train_loss = tot_train_loss/train_steps_since_last_val_step\n",
    "                print(f\"epoch: {epoch} | train_loss: {avg_train_loss} | val_loss: {avg_val_loss}\")\n",
    "                tot_train_loss = 0\n",
    "                train_steps_since_last_val_step = 0\n",
    "            optimizer.zero_grad()\n",
    "            loss.backward()\n",
    "            optimizer.step()\n",
    "\n",
    "    return pvnet"
   ]
  },
  {
   "cell_type": "code",
   "execution_count": 14,
   "metadata": {},
   "outputs": [],
   "source": [
    "env = MachiKoro(n_players=2)\n",
    "env = GymMachiKoro(env)\n",
    "\n",
    "pvnet = PVNet(env.observation_space, env.action_space)"
   ]
  },
  {
   "cell_type": "code",
   "execution_count": 31,
   "metadata": {},
   "outputs": [
    {
     "name": "stdout",
     "output_type": "stream",
     "text": [
      "epoch: 0 | train_loss: 0.11722628027200699 | val_loss: 0.11627991497516632\n",
      "epoch: 0 | train_loss: 0.09176701307296753 | val_loss: 0.0686754360795021\n",
      "epoch: 0 | train_loss: 0.07282016426324844 | val_loss: 0.04723617807030678\n",
      "epoch: 0 | train_loss: 0.06727480888366699 | val_loss: 0.048157308250665665\n",
      "epoch: 0 | train_loss: 0.0501193143427372 | val_loss: 0.04726008325815201\n",
      "epoch: 0 | train_loss: 0.05174778401851654 | val_loss: 0.04223967716097832\n",
      "epoch: 1 | train_loss: 0.06100828945636749 | val_loss: 0.051566850394010544\n",
      "epoch: 1 | train_loss: 0.03670654445886612 | val_loss: 0.029782960191369057\n",
      "epoch: 1 | train_loss: 0.02745646797120571 | val_loss: 0.028118232265114784\n",
      "epoch: 1 | train_loss: 0.03748879209160805 | val_loss: 0.03283189237117767\n",
      "epoch: 1 | train_loss: 0.02981995791196823 | val_loss: 0.026273949071764946\n",
      "epoch: 1 | train_loss: 0.02564811520278454 | val_loss: 0.025827504694461823\n",
      "epoch: 2 | train_loss: 0.0037556560710072517 | val_loss: 0.023032328113913536\n",
      "epoch: 2 | train_loss: 0.022925706580281258 | val_loss: 0.023078422993421555\n",
      "epoch: 2 | train_loss: 0.0186730045825243 | val_loss: 0.02191794291138649\n",
      "epoch: 2 | train_loss: 0.02518349699676037 | val_loss: 0.022513894364237785\n",
      "epoch: 2 | train_loss: 0.01804608292877674 | val_loss: 0.017993366345763206\n",
      "epoch: 2 | train_loss: 0.02204599604010582 | val_loss: 0.01812509447336197\n",
      "epoch: 3 | train_loss: 0.000411887071095407 | val_loss: 0.018919313326478004\n",
      "epoch: 3 | train_loss: 0.017383836209774017 | val_loss: 0.03205344080924988\n",
      "epoch: 3 | train_loss: 0.013712418265640736 | val_loss: 0.015263913199305534\n",
      "epoch: 3 | train_loss: 0.016499456018209457 | val_loss: 0.01452617160975933\n",
      "epoch: 3 | train_loss: 0.007773001678287983 | val_loss: 0.013077323324978352\n",
      "epoch: 3 | train_loss: 0.01659390702843666 | val_loss: 0.018350237980484962\n",
      "epoch: 4 | train_loss: 0.019760966300964355 | val_loss: 0.026031050831079483\n",
      "epoch: 4 | train_loss: 0.015864962711930275 | val_loss: 0.025888632982969284\n",
      "epoch: 4 | train_loss: 0.019324852153658867 | val_loss: 0.026410551741719246\n",
      "epoch: 4 | train_loss: 0.02113809436559677 | val_loss: 0.017855126410722733\n",
      "epoch: 4 | train_loss: 0.016724051907658577 | val_loss: 0.03283838927745819\n",
      "epoch: 4 | train_loss: 0.013928395695984364 | val_loss: 0.018742848187685013\n"
     ]
    }
   ],
   "source": [
    "buffer9 = buffers[-1]\n",
    "buffer9.post_process()\n",
    "train_buffer, val_buffer = buffer9.split_buffer(0.2)\n",
    "pvnet = train(train_buffer=train_buffer, val_buffer=val_buffer, pvnet=pvnet, batch_size=64, epochs=5)\n",
    "\n",
    "\n",
    "# policy_preds, value_preds = model.forward(torch.tensor(buffer.obss).to(torch.float32))\n",
    "\n",
    "# fig, axs = plt.subplots(1, 1, tight_layout=True)\n",
    "\n",
    "# # We can set the number of bins with the *bins* keyword argument.\n",
    "# axs.hist(value_preds.detach().numpy().squeeze(), bins=100)"
   ]
  },
  {
   "cell_type": "code",
   "execution_count": null,
   "metadata": {},
   "outputs": [],
   "source": [
    "n=0\n",
    "for key, value in env.observation_space.items():\n",
    "    print(key, value, n)\n",
    "    if isinstance(value, gym.spaces.Box):\n",
    "        n += 1\n",
    "    else:\n",
    "        n += value.n"
   ]
  },
  {
   "cell_type": "code",
   "execution_count": 16,
   "metadata": {},
   "outputs": [
    {
     "data": {
      "image/png": "[encoded data removed]",
      "text/plain": [
       "<Figure size 640x480 with 1 Axes>"
      ]
     },
     "metadata": {},
     "output_type": "display_data"
    }
   ],
   "source": [
    "value_preds = pvnet.forward(torch.tensor(val_buffer.obss).to(torch.float32))\n",
    "\n",
    "fig, axs = plt.subplots(1, 1, tight_layout=True)\n",
    "\n",
    "# We can set the number of bins with the *bins* keyword argument.\n",
    "axs.hist(value_preds.detach().numpy().squeeze(), bins=100)\n",
    "plt.show()"
   ]
  },
  {
   "cell_type": "code",
   "execution_count": 32,
   "metadata": {},
   "outputs": [],
   "source": [
    "obss, actions, rewards, next_obss, dones, player_ids, action_masks, values, probs = buffer9.get_episode(0)\n",
    "value_preds = pvnet.forward(torch.tensor(obss).to(torch.float32))"
   ]
  },
  {
   "cell_type": "code",
   "execution_count": 39,
   "metadata": {},
   "outputs": [
    {
     "data": {
      "text/plain": [
       "tensor([-1.0000], grad_fn=<SelectBackward0>)"
      ]
     },
     "execution_count": 39,
     "metadata": {},
     "output_type": "execute_result"
    }
   ],
   "source": [
    "value_preds[50]"
   ]
  },
  {
   "cell_type": "code",
   "execution_count": 33,
   "metadata": {},
   "outputs": [],
   "source": [
    "p0_indices, _ = np.where(player_ids == 0)\n",
    "p1_indices, _  = np.where(player_ids == 1)"
   ]
  },
  {
   "cell_type": "code",
   "execution_count": 34,
   "metadata": {},
   "outputs": [
    {
     "data": {
      "image/png": "[encoded data removed]",
      "text/plain": [
       "<Figure size 640x480 with 1 Axes>"
      ]
     },
     "metadata": {},
     "output_type": "display_data"
    }
   ],
   "source": [
    "plt.plot(np.arange(len(p0_indices)), value_preds[p0_indices].detach().numpy(), \"--\")\n",
    "plt.plot(np.arange(len(p1_indices)), value_preds[p1_indices].detach().numpy(), \"-\")\n",
    "plt.show()"
   ]
  }
 ],
 "metadata": {
  "kernelspec": {
   "display_name": "lekkerbeunen",
   "language": "python",
   "name": "python3"
  },
  "language_info": {
   "codemirror_mode": {
    "name": "ipython",
    "version": 3
   },
   "file_extension": ".py",
   "mimetype": "text/x-python",
   "name": "python",
   "nbconvert_exporter": "python",
   "pygments_lexer": "ipython3",
   "version": "3.10.11"
  },
  "orig_nbformat": 4
 },
 "nbformat": 4,
 "nbformat_minor": 2
}
