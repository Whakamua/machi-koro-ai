{
 "cells": [
  {
   "cell_type": "code",
   "execution_count": 31,
   "metadata": {},
   "outputs": [],
   "source": [
    "import sys\n",
    "cwd = \"/Users/jordydikkers/Documents/repos/machi-koro-ai\"\n",
    "sys.path.append(cwd)\n",
    "import os\n",
    "os.chdir(cwd)\n",
    "\n",
    "from mcts_agent import PVNet, HDF5DataLoader\n",
    "import h5py\n",
    "import torch\n",
    "from env_machi_koro_2 import GymMachiKoro2\n",
    "import pickle\n",
    "import numpy as np"
   ]
  },
  {
   "cell_type": "code",
   "execution_count": 62,
   "metadata": {},
   "outputs": [],
   "source": [
    "class BufferAnalyzer:\n",
    "    def __init__(self, checkpoint_path):\n",
    "        self.buffer_path = checkpoint_path+\"/buffers.h5\"\n",
    "        with open(checkpoint_path+\"/env.pickle\", \"rb\") as f:\n",
    "            self.env = pickle.load(f)\n",
    "        with h5py.File(self.buffer_path, \"r\") as h5f:\n",
    "            self.columns_indices = {col: i for i, col in enumerate(h5f.attrs[\"columns\"])}\n",
    "\n",
    "    def nth_action_count(self, nth_action: int):\n",
    "        actions = {}\n",
    "\n",
    "        with h5py.File(self.buffer_path, \"r\") as h5f:\n",
    "            for split in [\"train\", \"val\"]:\n",
    "                for iteration in h5f[split].keys():\n",
    "                    if iteration not in actions.keys():\n",
    "                        actions[iteration] = {action: 0 for action in self.env._action_idx_to_str.values()}\n",
    "                    for game in h5f[split][iteration].keys():\n",
    "                        actions[iteration][self.env._action_idx_to_str[h5f[split][iteration][game][nth_action, self.columns_indices[\"action\"]]]] += 1\n",
    "        return actions\n",
    "\n",
    "    def find_buffers_with_action_sequence(self, player_idx: int, sequence: list[str | int]):\n",
    "        if isinstance(sequence[0], str):\n",
    "            sequence = [self.env._action_str_to_idx[action] for action in sequence]\n",
    "        buffers = {}\n",
    "        with h5py.File(self.buffer_path, \"r\") as h5f:\n",
    "            for split in [\"train\", \"val\"]:\n",
    "                for iteration in h5f[split].keys():\n",
    "                    for game in h5f[split][iteration].keys():\n",
    "                        players = h5f[split][iteration][game][:, self.columns_indices[\"player_id\"]]\n",
    "                        targeted_player_indices = np.argwhere(players == player_idx)\n",
    "                        player_actions = h5f[split][iteration][game][targeted_player_indices.flatten(), self.columns_indices[\"action\"]]\n",
    "                        # if any section in player_actions overlaps with the sequence, save the buffer\n",
    "                        for i in range(len(player_actions)-len(sequence)+1):\n",
    "                            if np.array_equal(player_actions[i:i+len(sequence)], sequence):\n",
    "                                buffer_name = f\"{split}/{iteration}/{game}\"\n",
    "                                sequence_range = (i, i+len(sequence))\n",
    "                                print(f\"Found sequence in {buffer_name} at indices {sequence_range}\")\n",
    "                                if buffer_name not in buffers.keys():\n",
    "                                    buffers[buffer_name] = {\n",
    "                                        \"buffer\": h5f[split][iteration][game][:],\n",
    "                                        \"sequence_ranges\": [(i, i+len(sequence))]\n",
    "                                    }\n",
    "                                else:\n",
    "                                    buffers[buffer_name][\"sequence_ranges\"].append((i, i+len(sequence)))\n",
    "        return buffers\n",
    "\n"
   ]
  },
  {
   "cell_type": "code",
   "execution_count": 63,
   "metadata": {},
   "outputs": [],
   "source": [
    "ba = BufferAnalyzer(\"checkpoints/2025-01-21 10:11:40.769705\")"
   ]
  },
  {
   "cell_type": "code",
   "execution_count": null,
   "metadata": {},
   "outputs": [],
   "source": [
    "action_counts = ba.nth_action_count(0)"
   ]
  },
  {
   "cell_type": "code",
   "execution_count": null,
   "metadata": {},
   "outputs": [],
   "source": [
    "buffers = ba.find_buffers_with_action_sequence(player_idx=0, sequence=[\"Build nothing\", \"1 dice\", \"Launch Pad\"])"
   ]
  },
  {
   "cell_type": "code",
   "execution_count": null,
   "metadata": {},
   "outputs": [],
   "source": [
    "print(buffers[\"train/iteration_0/game_204\"][\"buffer\"][:][:, ba.columns_indices[\"action\"]])\n",
    "print(buffers[\"train/iteration_0/game_204\"][\"buffer\"][:][:, ba.columns_indices[\"value\"]])"
   ]
  },
  {
   "cell_type": "code",
   "execution_count": null,
   "metadata": {},
   "outputs": [],
   "source": [
    "obs_indices = [i for i, col in enumerate(ba.columns_indices) if col.startswith(\"obs\")]"
   ]
  },
  {
   "cell_type": "code",
   "execution_count": null,
   "metadata": {},
   "outputs": [],
   "source": [
    "pvnet = PVNet(env=ba.env)\n",
    "\n",
    "for model in [\"model_0\", \"model_1\", \"model_2\"]:\n",
    "    pvnet.load(f\"checkpoints/2025-01-21 10:11:40.769705/{model}.pt\")\n",
    "    print(model)\n",
    "    [print(action, prob) for action, prob in zip(ba.env._action_str_to_idx.keys(), pvnet.predict(buffers[\"train/iteration_0/game_204\"][\"buffer\"][-1, obs_indices])[0])]\n"
   ]
  },
  {
   "cell_type": "code",
   "execution_count": null,
   "metadata": {},
   "outputs": [],
   "source": [
    "for iteration in action_counts.keys():\n",
    "    print({k: v for k, v in sorted(action_counts[iteration].items(), key=lambda item: item[1], reverse=True)})"
   ]
  },
  {
   "cell_type": "code",
   "execution_count": 112,
   "metadata": {},
   "outputs": [],
   "source": [
    "h5f_path = \"checkpoints/2025-01-21 10:11:40.769705/buffers.h5\""
   ]
  },
  {
   "cell_type": "code",
   "execution_count": 113,
   "metadata": {},
   "outputs": [],
   "source": [
    "h5f = h5py.File(h5f_path, \"r\")"
   ]
  },
  {
   "cell_type": "code",
   "execution_count": 120,
   "metadata": {},
   "outputs": [],
   "source": [
    "h5f.close()"
   ]
  },
  {
   "cell_type": "code",
   "execution_count": null,
   "metadata": {},
   "outputs": [],
   "source": [
    "h5f.attrs[\"columns\"]"
   ]
  },
  {
   "cell_type": "code",
   "execution_count": null,
   "metadata": {},
   "outputs": [],
   "source": [
    "h5f[\"train\"][\"iteration_0\"][\"game_0\"][:]"
   ]
  },
  {
   "cell_type": "code",
   "execution_count": 101,
   "metadata": {},
   "outputs": [],
   "source": [
    "h5f.close()"
   ]
  },
  {
   "cell_type": "code",
   "execution_count": 3,
   "metadata": {},
   "outputs": [],
   "source": [
    "def explore_hdf5_structure(h5_file, group=None, indent=0):\n",
    "    \"\"\"\n",
    "    Recursively explores the group structure of an HDF5 file and prints the number of rows or elements in datasets.\n",
    "    \n",
    "    Parameters:\n",
    "    - h5_file: h5py File object\n",
    "    - group: Current group or dataset (None starts from the root group)\n",
    "    - indent: Current indentation level for pretty printing\n",
    "    \"\"\"\n",
    "    if group is None:\n",
    "        group = h5_file  # Start from the root group\n",
    "    \n",
    "    for key in group:\n",
    "        item = group[key]\n",
    "        if isinstance(item, h5py.Group):  # If it's a group\n",
    "            print(\" \" * indent + f\"Group: {key}\")\n",
    "            explore_hdf5_structure(h5_file, item, indent + 4)\n",
    "        elif isinstance(item, h5py.Dataset):  # If it's a dataset\n",
    "            shape = item.shape  # Get the shape of the dataset\n",
    "            num_rows = shape[0] if len(shape) > 0 else 0  # Number of rows if applicable\n",
    "            print(\" \" * indent + f\"Dataset: {key}, Rows: {num_rows}, Shape: {shape}\")"
   ]
  },
  {
   "cell_type": "code",
   "execution_count": null,
   "metadata": {},
   "outputs": [],
   "source": [
    "h5f[\"train\"][\"iteration_0\"]"
   ]
  },
  {
   "cell_type": "code",
   "execution_count": null,
   "metadata": {},
   "outputs": [],
   "source": [
    "explore_hdf5_structure(h5f)"
   ]
  },
  {
   "cell_type": "code",
   "execution_count": 76,
   "metadata": {},
   "outputs": [],
   "source": []
  },
  {
   "cell_type": "code",
   "execution_count": 13,
   "metadata": {},
   "outputs": [],
   "source": [
    "data_manager = HDF5DataLoader(h5f_path, subset_rules={\"iteration_0\": 1.0}, chunk_size=64e5)\n",
    "train_loader, val_loader = data_manager.get_dataloaders()"
   ]
  },
  {
   "cell_type": "code",
   "execution_count": 97,
   "metadata": {},
   "outputs": [],
   "source": [
    "obs_col_indices = [i for i, col in enumerate(h5f.attrs[\"columns\"]) if col.startswith(\"obs\")]\n",
    "probs_col_indices = [i for i, col in enumerate(h5f.attrs[\"columns\"]) if col.startswith(\"prob\")]"
   ]
  },
  {
   "cell_type": "code",
   "execution_count": null,
   "metadata": {},
   "outputs": [],
   "source": [
    "init_obs = h5f[\"train\"][\"iteration_0\"][\"game_0\"][0, obs_col_indices]\n",
    "init_prob = h5f[\"train\"][\"iteration_0\"][\"game_0\"][0, probs_col_indices]"
   ]
  },
  {
   "cell_type": "code",
   "execution_count": null,
   "metadata": {},
   "outputs": [],
   "source": [
    "init_prob"
   ]
  },
  {
   "cell_type": "code",
   "execution_count": 109,
   "metadata": {},
   "outputs": [],
   "source": [
    "pred = pvnet.predict(init_obs)"
   ]
  },
  {
   "cell_type": "code",
   "execution_count": null,
   "metadata": {},
   "outputs": [],
   "source": [
    "pred[0]"
   ]
  },
  {
   "cell_type": "code",
   "execution_count": null,
   "metadata": {},
   "outputs": [],
   "source": [
    "import matplotlib.pyplot as plt\n",
    "import numpy as np\n",
    "\n",
    "plt.bar([env._action_idx_to_str[idx] for idx in np.arange(len(pred[0]))], pred[0])\n",
    "plt.xticks(rotation=90)\n",
    "plt.show()"
   ]
  },
  {
   "cell_type": "code",
   "execution_count": null,
   "metadata": {},
   "outputs": [],
   "source": [
    "env._action_idx_to_str[0]"
   ]
  },
  {
   "cell_type": "code",
   "execution_count": null,
   "metadata": {},
   "outputs": [],
   "source": [
    "CARD_INFO_PATH = \"card_info_machi_koro_2_quick_game.yaml\"\n",
    "\n",
    "env = GymMachiKoro2(n_players=2, card_info_path=CARD_INFO_PATH)\n",
    "\n",
    "env.reset()\n",
    "state = env.state_dict()\n",
    "state[\"player_info\"][\"player 0\"][\"coins\"] = 30\n",
    "state[\"player_info\"][\"player 1\"][\"coins\"] = 30\n",
    "# state[\"player_info\"][\"player 0\"][\"cards\"][\"Forge\"] = 1\n",
    "# state[\"player_info\"][\"player 0\"][\"cards\"][\"Park\"] = 1\n",
    "# state[\"player_info\"][\"player 1\"][\"cards\"][\"Forge\"] = 1\n",
    "# state[\"player_info\"][\"player 1\"][\"cards\"][\"Park\"] = 1\n",
    "state[\"marketplace\"][\"landmark\"][\"pos_0\"][\"card\"] = \"Launch Pad\"\n",
    "state[\"marketplace\"][\"landmark\"][\"pos_1\"][\"card\"] = \"Loan Office\"\n",
    "state[\"marketplace\"][\"landmark\"][\"pos_2\"][\"card\"] = \"Soda Bottling Plant\"\n",
    "state[\"marketplace\"][\"landmark\"][\"pos_3\"][\"card\"] = \"Charterhouse\"\n",
    "state[\"marketplace\"][\"landmark\"][\"pos_4\"][\"card\"] = \"Temple\"\n",
    "env.set_state(env.state_dict_to_array(state))\n",
    "\n",
    "# GAME_START_STATE = env.state_dict_to_array(state)\n",
    "# next_obs, reward, done, truncated, info = env.step(33)\n",
    "env.step(39)"
   ]
  },
  {
   "cell_type": "code",
   "execution_count": null,
   "metadata": {},
   "outputs": [],
   "source": [
    "env._env.player_icon_count(\"player 1\", \"Landmark\")"
   ]
  },
  {
   "cell_type": "code",
   "execution_count": null,
   "metadata": {},
   "outputs": [],
   "source": [
    "env._action_str_to_idx[\"Observatory\"]"
   ]
  },
  {
   "cell_type": "code",
   "execution_count": null,
   "metadata": {},
   "outputs": [],
   "source": [
    "state[\"marketplace\"][\"landmark\"]"
   ]
  }
 ],
 "metadata": {
  "kernelspec": {
   "display_name": "lekkerbeunen",
   "language": "python",
   "name": "python3"
  },
  "language_info": {
   "codemirror_mode": {
    "name": "ipython",
    "version": 3
   },
   "file_extension": ".py",
   "mimetype": "text/x-python",
   "name": "python",
   "nbconvert_exporter": "python",
   "pygments_lexer": "ipython3",
   "version": "3.11.8"
  }
 },
 "nbformat": 4,
 "nbformat_minor": 2
}
